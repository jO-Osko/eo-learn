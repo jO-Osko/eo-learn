{
 "cells": [
  {
   "cell_type": "markdown",
   "metadata": {},
   "source": [
    "# Example of generation of valid data mask using a predicate"
   ]
  },
  {
   "cell_type": "markdown",
   "metadata": {},
   "source": [
    "Notebook showing an example of predicate for generation of valid data mask "
   ]
  },
  {
   "cell_type": "code",
   "execution_count": 1,
   "metadata": {},
   "outputs": [],
   "source": [
    "%matplotlib inline\n",
    "\n",
    "import matplotlib.pyplot as plt\n",
    "import numpy as np\n",
    "import datetime\n",
    "\n",
    "from sentinelhub import BBox, CRS\n",
    "\n",
    "from eolearn.core.eoworkflow import LinearWorkflow, Dependency\n",
    "from eolearn.core.eodata import FeatureType\n",
    "from eolearn.io import S2L1CWCSInput\n",
    "from eolearn.mask import AddCloudMaskTask, get_s2_pixel_cloud_detector, AddValidDataMaskTask"
   ]
  },
  {
   "cell_type": "markdown",
   "metadata": {},
   "source": [
    "Define ROI BBOX and time interval"
   ]
  },
  {
   "cell_type": "code",
   "execution_count": 2,
   "metadata": {},
   "outputs": [],
   "source": [
    "roi_bbox = BBox(bbox=[5.60, 52.68, 5.75, 52.63], crs=CRS.WGS84)\n",
    "time_interval = ('2017-04-01', '2017-05-31')"
   ]
  },
  {
   "cell_type": "markdown",
   "metadata": {},
   "source": [
    "### Workflow to merge the cloud mask with the mask defining where reflectance data is available"
   ]
  },
  {
   "cell_type": "markdown",
   "metadata": {},
   "source": [
    "The predicate merges the cloud mask with the `IS_DATA` mask which defines where reflectance data is available. For orbits covering partially the ROI, the `IS_DATA` mask values will be 0."
   ]
  },
  {
   "cell_type": "code",
   "execution_count": 3,
   "metadata": {},
   "outputs": [],
   "source": [
    "class ValidDataPredicate:\n",
    "    def __call__(self, eopatch):\n",
    "        return np.logical_and(eopatch.mask['IS_DATA'].astype(np.bool), \n",
    "                              np.logical_not(eopatch.mask['CLM'].astype(np.bool)))"
   ]
  },
  {
   "cell_type": "code",
   "execution_count": 4,
   "metadata": {},
   "outputs": [
    {
     "name": "stdout",
     "output_type": "stream",
     "text": [
      "Finished loading model, total used 170 iterations\n"
     ]
    }
   ],
   "source": [
    "layer = 'BANDS-S2-L1C'\n",
    "\n",
    "input_task = S2L1CWCSInput(layer=layer, \n",
    "                           resx='20m', resy='20m', \n",
    "                           maxcc=1, time_difference=datetime.timedelta(hours=2))\n",
    "\n",
    "cloud_classifier = get_s2_pixel_cloud_detector(all_bands=True)\n",
    "add_clm = AddCloudMaskTask(cloud_classifier, \n",
    "                           'BANDS-S2-L1C', \n",
    "                           cm_size_y='60m', \n",
    "                           cm_size_x='60m', \n",
    "                           cmask_feature='CLM',\n",
    "                           cprobs_feature='CLP')\n",
    "\n",
    "add_valmask = AddValidDataMaskTask(predicate=ValidDataPredicate())"
   ]
  },
  {
   "cell_type": "markdown",
   "metadata": {},
   "source": [
    "Run workflow"
   ]
  },
  {
   "cell_type": "code",
   "execution_count": 5,
   "metadata": {},
   "outputs": [],
   "source": [
    "workflow = LinearWorkflow(input_task,add_clm, add_valmask)\n",
    "result = workflow.execute({\n",
    "    input_task: {\n",
    "        'bbox': roi_bbox,\n",
    "        'time_interval': time_interval\n",
    "    }\n",
    "})"
   ]
  },
  {
   "cell_type": "markdown",
   "metadata": {},
   "source": [
    "Plot results"
   ]
  },
  {
   "cell_type": "code",
   "execution_count": 6,
   "metadata": {},
   "outputs": [
    {
     "data": {
      "text/plain": [
       "EOPatch(\n",
       "  data: {\n",
       "    BANDS-S2-L1C: numpy.ndarray(shape=(12, 278, 506, 13), dtype=float32)\n",
       "    CLP: numpy.ndarray(shape=(12, 278, 506, 1), dtype=float32)\n",
       "  }\n",
       "  mask: {\n",
       "    CLM: numpy.ndarray(shape=(12, 278, 506, 1), dtype=uint8)\n",
       "    IS_DATA: numpy.ndarray(shape=(12, 278, 506, 1), dtype=uint8)\n",
       "    VALID_DATA: numpy.ndarray(shape=(12, 278, 506, 1), dtype=bool)\n",
       "  }\n",
       "  scalar: {}\n",
       "  label: {}\n",
       "  vector: {}\n",
       "  data_timeless: {}\n",
       "  mask_timeless: {}\n",
       "  scalar_timeless: {}\n",
       "  label_timeless: {}\n",
       "  vector_timeless: {}\n",
       "  meta_info: {\n",
       "    maxcc: 1\n",
       "    service_type: 'wcs'\n",
       "    size_x: '20m'\n",
       "    size_y: '20m'\n",
       "    time_difference: datetime.timedelta(0, 7200)\n",
       "    time_interval: [datetime.datetime(2017, 4, 1, 0, 0), datetime.datetime(2017, 5, 31, 0, 0)]\n",
       "  }\n",
       "  bbox: BBox(((5.6, 52.63), (5.75, 52.68)), crs=EPSG:4326)\n",
       "  timestamp: [datetime.datetime(2017, 4, 3, 10, 41, 38), ..., datetime.datetime(2017, 5, 26, 10, 55, 18)], length=12\n",
       ")"
      ]
     },
     "execution_count": 6,
     "metadata": {},
     "output_type": "execute_result"
    }
   ],
   "source": [
    "eopatch = result[add_valmask]\n",
    "\n",
    "eopatch"
   ]
  },
  {
   "cell_type": "markdown",
   "metadata": {},
   "source": [
    "Display the input masks (`IS_DATA` mask on the left and cloud mask `CLM` in the middle) and the resulting merged mask (`VALID_DATA` on the right)"
   ]
  },
  {
   "cell_type": "code",
   "execution_count": 7,
   "metadata": {},
   "outputs": [
    {
     "data": {
      "image/png": "[encoded data removed]",
      "text/plain": [
       "<Figure size 1080x1080 with 3 Axes>"
      ]
     },
     "metadata": {},
     "output_type": "display_data"
    }
   ],
   "source": [
    "tidx = 5\n",
    "plt.figure(figsize=(15, 15))\n",
    "plt.subplot(131)\n",
    "plt.imshow(eopatch.mask['IS_DATA'][tidx].squeeze(), vmin=0, vmax=1, cmap='gray')\n",
    "plt.title('IS_DATA')\n",
    "plt.subplot(132)\n",
    "plt.imshow(eopatch.mask['CLM'][tidx].squeeze(), vmin=0, vmax=1, cmap='gray')\n",
    "plt.title('CLM')\n",
    "plt.subplot(133)\n",
    "plt.imshow(eopatch.mask['VALID_DATA'][tidx].squeeze(), vmin=0, vmax=1, cmap='gray')\n",
    "plt.title('VALID_DATA');"
   ]
  }
 ],
 "metadata": {
  "kernelspec": {
   "display_name": "Python 3",
   "language": "python",
   "name": "python3"
  },
  "language_info": {
   "codemirror_mode": {
    "name": "ipython",
    "version": 3
   },
   "file_extension": ".py",
   "mimetype": "text/x-python",
   "name": "python",
   "nbconvert_exporter": "python",
   "pygments_lexer": "ipython3",
   "version": "3.5.3"
  }
 },
 "nbformat": 4,
 "nbformat_minor": 2
}
